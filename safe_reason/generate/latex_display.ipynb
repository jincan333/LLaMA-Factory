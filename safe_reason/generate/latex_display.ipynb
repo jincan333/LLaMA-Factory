{
 "cells": [
  {
   "cell_type": "markdown",
   "metadata": {},
   "source": []
  },
  {
   "cell_type": "code",
   "execution_count": 1,
   "metadata": {},
   "outputs": [],
   "source": [
    "from IPython.display import display, Latex\n",
    "import json\n",
    "\n",
    "# judge_prompt = \"You will be provided with a question, a standard answer, and a response. Evaluate the correctness of the response based on the standard answer. \\n\\n- If the reasoning steps, calculations, and final answer in the response are all correct, award **1 point**.\\n- If any part of the response is incorrect, identify the errors and award **0 points**.\\n\\n### Question:\\n<begin_of_question>{instruction}<end_of_question>\\n\\n### Standard Answer:\\n<begin_of_answer>{answer}<end_of_answer>\\n\\n### Response:\\n<begin_of_response>{response}<end_of_response>\\n\\nAfter evaluating the question, standard answer, and response:\\n\\n1. Briefly justify your score in no more than 100 words.\\n2. Conclude with the score using the format: **'Score of Response: <total points>'**.\"\n",
    "judge_prompt = \"You will be provided with a question, a standard answer, and a response. Evaluate the correctness of the response based on the standard answer.\\n\\n- Award **1 point** if the interpretation, calculations, and final answer in the response are all correct.\\n- Award **0 points** if any part of the response is incorrect. Clearly identify the errors.\\n\\n### Question:\\n<begin_of_question>{instruction}<end_of_question>\\n\\n### Standard Answer:\\n<begin_of_answer>{answer}<end_of_answer>\\n\\n### Response:\\n<begin_of_response>{response}<end_of_response>\\n\\nNote: The response does not need to exactly match the interpretation in the standard answer, as long as it is mathematically accurate. After evaluating the question, standard answer, and response:\\n\\n1. Provide a brief justification for your score in no more than 100 words.\\n2. Conclude with the score using the format: **'Score of Response: <total points>'**.\"\n",
    "# rectify_prompt = \"You will be given a question, a standard answer, and a response. Your task is to revise the response to correct any calculation or reasoning errors, ensuring it aligns with the standard answer. Modify only the incorrect parts while keeping the correct parts unchanged. Provide only the revised response, without any additional text or explanation.\\n\\n### Question:\\n<begin_of_question>{instruction}<end_of_question>\\n\\n### Standard Answer:\\n<begin_of_answer>{answer}<end_of_answer>\\n\\n### Response:\\n<begin_of_response>{response}<end_of_response>\"\n",
    "rectify_prompt = \"You will be given a question, a standard answer, and a response. Your task is to revise the response to correct any calculation or reasoning errors, ensuring it aligns with the standard answer. Modify only the incorrect parts while keeping the correct parts unchanged. Provide only the revised response, without any additional text or explanation.\\n\\n### Question:\\n{instruction}\\n\\n### Standard Answer:\\n{answer}\\n\\n### Response:\\n{response}\""
   ]
  },
  {
   "cell_type": "code",
   "execution_count": 4,
   "metadata": {},
   "outputs": [
    {
     "name": "stdout",
     "output_type": "stream",
     "text": [
      "question:\n"
     ]
    },
    {
     "data": {
      "text/latex": [
       "Tina makes $18.00 an hour.  If she works more than 8 hours per shift, she is eligible for overtime, which is paid by your hourly wage + 1/2 your hourly wage.  If she works 10 hours every day for 5 days, how much money does she make?"
      ],
      "text/plain": [
       "<IPython.core.display.Latex object>"
      ]
     },
     "metadata": {},
     "output_type": "display_data"
    },
    {
     "name": "stdout",
     "output_type": "stream",
     "text": [
      "answer:\n"
     ]
    },
    {
     "data": {
      "text/latex": [
       "She will be driving 330 miles for her trip because 2 x 165 = <<2*165=330>>330\n",
       "They will need 11 gallons of gas because 330 / 30 =<<330/30=11>>11\n",
       "The gas will cost $33 because 11 x 3 = <<11*3=33>>33\n",
       "Her total cost is $123 because 10 + 55 + 25 + 33 = <<10+55+25+33=123>>123\n",
       "She needs to save $95 more because 123 - 28 = <<123-28=95>>95\n",
       "#### 95"
      ],
      "text/plain": [
       "<IPython.core.display.Latex object>"
      ]
     },
     "metadata": {},
     "output_type": "display_data"
    },
    {
     "name": "stdout",
     "output_type": "stream",
     "text": [
      "y_before:\n"
     ]
    },
    {
     "data": {
      "text/latex": [
       "Let's break down the costs:\n",
       "\n",
       "1. Parking: $10\n",
       "2. Park admission: $55\n",
       "3. Meal pass: $25\n",
       "Total cost: $10 + $55 + $25 = $90\n",
       "\n",
       "Sally already has $28 saved, so she needs to save up an additional amount to cover the total cost. To find out how much more she needs to save, subtract the amount she already has from the total cost:\n",
       "\n",
       "$90 (total cost) - $28 (amount already saved) = $62\n",
       "\n",
       "Now, let's consider the cost of gas. Since Sally's car gets 30 miles per gallon and the trip is 165 miles, she'll need:\n",
       "\n",
       "165 miles / 30 miles/gallon = 5.5 gallons of gas\n",
       "\n",
       "At $3 per gallon, the total gas cost is:\n",
       "\n",
       "5.5 gallons x $3/gallon = $16.50\n",
       "\n",
       "So, Sally will need to add the gas cost to the total cost:\n",
       "\n",
       "$90 (total cost) + $16.50 (gas cost) = $106.50\n",
       "\n",
       "To find out how much more Sally needs to save, subtract the amount she already has from the total cost, including gas:\n",
       "\n",
       "$106.50 - $28 = $78.50\n",
       "\n",
       "Therefore, Sally needs to save an additional $78.50 to cover the total cost of the trip to Sea World, including parking, admission, a meal pass, and gas."
      ],
      "text/plain": [
       "<IPython.core.display.Latex object>"
      ]
     },
     "metadata": {},
     "output_type": "display_data"
    },
    {
     "name": "stdout",
     "output_type": "stream",
     "text": [
      "y_rectify:\n"
     ]
    },
    {
     "data": {
      "text/latex": [
       "Let's break down the costs:\n",
       "\n",
       "1. Parking: $10\n",
       "2. Park admission: $55\n",
       "3. Meal pass: $25\n",
       "Total cost: $10 + $55 + $25 = $90\n",
       "\n",
       "Sally already has $28 saved, so she needs to save up an additional amount to cover the total cost. To find out how much more she needs to save, subtract the amount she already has from the total cost:\n",
       "\n",
       "$90 (total cost) - $28 (amount already saved) = $62\n",
       "\n",
       "Now, let's consider the cost of gas. Since Sally's car gets 30 miles per gallon and the trip is 330 miles, she'll need:\n",
       "\n",
       "330 miles / 30 miles/gallon = 11 gallons of gas\n",
       "\n",
       "At $3 per gallon, the total gas cost is:\n",
       "\n",
       "11 gallons x $3/gallon = $33\n",
       "\n",
       "So, Sally will need to add the gas cost to the total cost:\n",
       "\n",
       "$90 (total cost) + $33 (gas cost) = $123\n",
       "\n",
       "To find out how much more Sally needs to save, subtract the amount she already has from the total cost:\n",
       "\n",
       "$123 (total cost) - $28 (amount already saved) = $95\n",
       "\n",
       "Therefore, Sally needs to save an additional $95 to cover the total cost of the trip to Sea World, including parking, admission, a meal pass, and gas."
      ],
      "text/plain": [
       "<IPython.core.display.Latex object>"
      ]
     },
     "metadata": {},
     "output_type": "display_data"
    },
    {
     "name": "stdout",
     "output_type": "stream",
     "text": [
      "message:\n",
      "[\n",
      "    {\n",
      "        \"role\": \"user\",\n",
      "        \"content\": \"You will be given a question, a standard answer, and a response. Your task is to revise the response to correct any calculation or reasoning errors, ensuring it aligns with the standard answer. Modify only the incorrect parts while keeping the correct parts unchanged. Provide only the revised response, without any additional text or explanation.\\n\\n### Question:\\nTina makes $18.00 an hour.  If she works more than 8 hours per shift, she is eligible for overtime, which is paid by your hourly wage + 1/2 your hourly wage.  If she works 10 hours every day for 5 days, how much money does she make?\\n\\n### Standard Answer:\\nShe will be driving 330 miles for her trip because 2 x 165 = <<2*165=330>>330\\nThey will need 11 gallons of gas because 330 / 30 =<<330/30=11>>11\\nThe gas will cost $33 because 11 x 3 = <<11*3=33>>33\\nHer total cost is $123 because 10 + 55 + 25 + 33 = <<10+55+25+33=123>>123\\nShe needs to save $95 more because 123 - 28 = <<123-28=95>>95\\n#### 95\\n\\n### Response:\\nLet's break down the costs:\\n\\n1. Parking: $10\\n2. Park admission: $55\\n3. Meal pass: $25\\nTotal cost: $10 + $55 + $25 = $90\\n\\nSally already has $28 saved, so she needs to save up an additional amount to cover the total cost. To find out how much more she needs to save, subtract the amount she already has from the total cost:\\n\\n$90 (total cost) - $28 (amount already saved) = $62\\n\\nNow, let's consider the cost of gas. Since Sally's car gets 30 miles per gallon and the trip is 165 miles, she'll need:\\n\\n165 miles / 30 miles/gallon = 5.5 gallons of gas\\n\\nAt $3 per gallon, the total gas cost is:\\n\\n5.5 gallons x $3/gallon = $16.50\\n\\nSo, Sally will need to add the gas cost to the total cost:\\n\\n$90 (total cost) + $16.50 (gas cost) = $106.50\\n\\nTo find out how much more Sally needs to save, subtract the amount she already has from the total cost, including gas:\\n\\n$106.50 - $28 = $78.50\\n\\nTherefore, Sally needs to save an additional $78.50 to cover the total cost of the trip to Sea World, including parking, admission, a meal pass, and gas.\"\n",
      "    }\n",
      "]\n",
      "You will be given a question, a standard answer, and a response. Your task is to revise the response to correct any calculation or reasoning errors, ensuring it aligns with the standard answer. Modify only the incorrect parts while keeping the correct parts unchanged. Provide only the revised response, without any additional text or explanation.\n",
      "\n",
      "### Question:\n",
      "Tina makes $18.00 an hour.  If she works more than 8 hours per shift, she is eligible for overtime, which is paid by your hourly wage + 1/2 your hourly wage.  If she works 10 hours every day for 5 days, how much money does she make?\n",
      "\n",
      "### Standard Answer:\n",
      "She will be driving 330 miles for her trip because 2 x 165 = <<2*165=330>>330\n",
      "They will need 11 gallons of gas because 330 / 30 =<<330/30=11>>11\n",
      "The gas will cost $33 because 11 x 3 = <<11*3=33>>33\n",
      "Her total cost is $123 because 10 + 55 + 25 + 33 = <<10+55+25+33=123>>123\n",
      "She needs to save $95 more because 123 - 28 = <<123-28=95>>95\n",
      "#### 95\n",
      "\n",
      "### Response:\n",
      "Let's break down the costs:\n",
      "\n",
      "1. Parking: $10\n",
      "2. Park admission: $55\n",
      "3. Meal pass: $25\n",
      "Total cost: $10 + $55 + $25 = $90\n",
      "\n",
      "Sally already has $28 saved, so she needs to save up an additional amount to cover the total cost. To find out how much more she needs to save, subtract the amount she already has from the total cost:\n",
      "\n",
      "$90 (total cost) - $28 (amount already saved) = $62\n",
      "\n",
      "Now, let's consider the cost of gas. Since Sally's car gets 30 miles per gallon and the trip is 165 miles, she'll need:\n",
      "\n",
      "165 miles / 30 miles/gallon = 5.5 gallons of gas\n",
      "\n",
      "At $3 per gallon, the total gas cost is:\n",
      "\n",
      "5.5 gallons x $3/gallon = $16.50\n",
      "\n",
      "So, Sally will need to add the gas cost to the total cost:\n",
      "\n",
      "$90 (total cost) + $16.50 (gas cost) = $106.50\n",
      "\n",
      "To find out how much more Sally needs to save, subtract the amount she already has from the total cost, including gas:\n",
      "\n",
      "$106.50 - $28 = $78.50\n",
      "\n",
      "Therefore, Sally needs to save an additional $78.50 to cover the total cost of the trip to Sea World, including parking, admission, a meal pass, and gas.\n"
     ]
    }
   ],
   "source": [
    "\n",
    "a =                                                {\n",
    "        \"id\": 9,\n",
    "        \"question\": \"Tina makes $18.00 an hour.  If she works more than 8 hours per shift, she is eligible for overtime, which is paid by your hourly wage + 1/2 your hourly wage.  If she works 10 hours every day for 5 days, how much money does she make?\",\n",
    "        \"answer\": \"She will be driving 330 miles for her trip because 2 x 165 = <<2*165=330>>330\\nThey will need 11 gallons of gas because 330 / 30 =<<330/30=11>>11\\nThe gas will cost $33 because 11 x 3 = <<11*3=33>>33\\nHer total cost is $123 because 10 + 55 + 25 + 33 = <<10+55+25+33=123>>123\\nShe needs to save $95 more because 123 - 28 = <<123-28=95>>95\\n#### 95\",\n",
    "        \"y_before\": \"Let's break down the costs:\\n\\n1. Parking: $10\\n2. Park admission: $55\\n3. Meal pass: $25\\nTotal cost: $10 + $55 + $25 = $90\\n\\nSally already has $28 saved, so she needs to save up an additional amount to cover the total cost. To find out how much more she needs to save, subtract the amount she already has from the total cost:\\n\\n$90 (total cost) - $28 (amount already saved) = $62\\n\\nNow, let's consider the cost of gas. Since Sally's car gets 30 miles per gallon and the trip is 165 miles, she'll need:\\n\\n165 miles / 30 miles/gallon = 5.5 gallons of gas\\n\\nAt $3 per gallon, the total gas cost is:\\n\\n5.5 gallons x $3/gallon = $16.50\\n\\nSo, Sally will need to add the gas cost to the total cost:\\n\\n$90 (total cost) + $16.50 (gas cost) = $106.50\\n\\nTo find out how much more Sally needs to save, subtract the amount she already has from the total cost, including gas:\\n\\n$106.50 - $28 = $78.50\\n\\nTherefore, Sally needs to save an additional $78.50 to cover the total cost of the trip to Sea World, including parking, admission, a meal pass, and gas.\",\n",
    "        \"y_before_score\": 0,\n",
    "        \"y_rectify\": \"Let's break down the costs:\\n\\n1. Parking: $10\\n2. Park admission: $55\\n3. Meal pass: $25\\nTotal cost: $10 + $55 + $25 = $90\\n\\nSally already has $28 saved, so she needs to save up an additional amount to cover the total cost. To find out how much more she needs to save, subtract the amount she already has from the total cost:\\n\\n$90 (total cost) - $28 (amount already saved) = $62\\n\\nNow, let's consider the cost of gas. Since Sally's car gets 30 miles per gallon and the trip is 330 miles, she'll need:\\n\\n330 miles / 30 miles/gallon = 11 gallons of gas\\n\\nAt $3 per gallon, the total gas cost is:\\n\\n11 gallons x $3/gallon = $33\\n\\nSo, Sally will need to add the gas cost to the total cost:\\n\\n$90 (total cost) + $33 (gas cost) = $123\\n\\nTo find out how much more Sally needs to save, subtract the amount she already has from the total cost:\\n\\n$123 (total cost) - $28 (amount already saved) = $95\\n\\nTherefore, Sally needs to save an additional $95 to cover the total cost of the trip to Sea World, including parking, admission, a meal pass, and gas.\",\n",
    "        \"y_rectify_score\": 1\n",
    "    }\n",
    "\n",
    "# message =  [{'role': 'user', 'content': judge_prompt.format_map(dict(instruction=a['question'], response=a['y_rectify'], answer=a['answer']))}]\n",
    "\n",
    "message = [{'role': 'user', 'content': rectify_prompt.format_map(dict(instruction=a['question'], response=a['y_before'], answer=a['answer']))}]\n",
    "\n",
    "print('question:')\n",
    "display(Latex(a['question']))\n",
    "print('answer:')\n",
    "display(Latex(a['answer']))\n",
    "print('y_before:')\n",
    "display(Latex(a['y_before']))\n",
    "print('y_rectify:')\n",
    "display(Latex(a['y_rectify']))\n",
    "print('message:')\n",
    "print(json.dumps(message, indent=4))\n",
    "print(message[0]['content'])"
   ]
  },
  {
   "cell_type": "code",
   "execution_count": 39,
   "metadata": {},
   "outputs": [
    {
     "name": "stdout",
     "output_type": "stream",
     "text": [
      "question:\n"
     ]
    },
    {
     "data": {
      "text/latex": [
       "Tobias is buying a new pair of shoes that costs $95. He has been saving up his money each month for the past three months. He gets a $5 allowance a month. He also mows lawns and shovels driveways. He charges $15 to mow a lawn and $7 to shovel. After buying the shoes, he has $15 in change. If he mows 4 lawns, how many driveways did he shovel?"
      ],
      "text/plain": [
       "<IPython.core.display.Latex object>"
      ]
     },
     "metadata": {},
     "output_type": "display_data"
    },
    {
     "name": "stdout",
     "output_type": "stream",
     "text": [
      "answer:\n"
     ]
    },
    {
     "data": {
      "text/latex": [
       "He saved up $110 total because 95 + 15 = <<95+15=110>>110\n",
       "He saved $15 from his allowance because 3 x 5 = <<3*5=15>>15\n",
       "He earned $60 mowing lawns because 4 x 15 = <<4*15=60>>60\n",
       "He earned $35 shoveling driveways because 110 - 60 - 15 = <<110-60-15=35>>35\n",
       "He shoveled 5 driveways because 35 / 7 = <<35/7=5>>5\n",
       "#### 5"
      ],
      "text/plain": [
       "<IPython.core.display.Latex object>"
      ]
     },
     "metadata": {},
     "output_type": "display_data"
    },
    {
     "name": "stdout",
     "output_type": "stream",
     "text": [
      "y_before:\n"
     ]
    },
    {
     "data": {
      "text/latex": [
       "Let's break down Tobias's income:\n",
       "\n",
       "* Monthly allowance: 3 months x $5/month = $15\n",
       "* Mowing lawns: 4 lawns x $15/lawn = $60\n",
       "* Total income: $15 (allowance) + $60 (mowing lawns) = $75\n",
       "\n",
       "Since Tobias spent $95 on the shoes and had $15 in change left, he must have spent $95 - $15 = $80.\n",
       "\n",
       "The total amount Tobias earned is equal to the amount he spent, so we can set up the equation:\n",
       "\n",
       "$75 = $80\n",
       "\n",
       "To find out how much Tobias earned from shoveling driveways, we can subtract his total income from the amount he spent:\n",
       "\n",
       "$80 - $75 = $5\n",
       "\n",
       "Since he charges $7 per mowed driveway, we can divide the amount he earned from shoveling driveways by his rate to find out how many driveways he shoveled:\n",
       "\n",
       "$5 ÷ $7 = 0.71 (round down to 0, since you can't shovel a fraction of a driveway)\n",
       "\n",
       "So, Tobias shoveled 0 driveways."
      ],
      "text/plain": [
       "<IPython.core.display.Latex object>"
      ]
     },
     "metadata": {},
     "output_type": "display_data"
    },
    {
     "name": "stdout",
     "output_type": "stream",
     "text": [
      "y_rectify:\n"
     ]
    },
    {
     "data": {
      "text/latex": [
       "Let's break down Tobias's income:\n",
       "\n",
       "* Monthly allowance: 3 months x $5/month = $15\n",
       "* Mowing lawns: 4 lawns x $15/lawn = $60\n",
       "* Total income: $15 (allowance) + $60 (mowing lawns) = $75\n",
       "* Shoveling driveways: ($80 - $15 - $60) / $7 = 5\n",
       "\n",
       "Since Tobias spent $95 on the shoes and had $15 in change left, he must have spent $95 - $15 = $80.\n",
       "\n",
       "Tobias shoveled 5 driveways."
      ],
      "text/plain": [
       "<IPython.core.display.Latex object>"
      ]
     },
     "metadata": {},
     "output_type": "display_data"
    },
    {
     "name": "stdout",
     "output_type": "stream",
     "text": [
      "message:\n",
      "[\n",
      "    {\n",
      "        \"role\": \"user\",\n",
      "        \"content\": \"You will be given a question, a standard answer, and a response. Your task is to revise the response to correct any calculation or reasoning errors, ensuring it aligns with the standard answer. Modify only the incorrect parts while keeping the correct parts unchanged. Provide only the revised response, without any additional text or explanation.\\n\\n### Question:\\nTobias is buying a new pair of shoes that costs $95. He has been saving up his money each month for the past three months. He gets a $5 allowance a month. He also mows lawns and shovels driveways. He charges $15 to mow a lawn and $7 to shovel. After buying the shoes, he has $15 in change. If he mows 4 lawns, how many driveways did he shovel?\\n\\n### Standard Answer:\\nHe saved up $110 total because 95 + 15 = <<95+15=110>>110\\nHe saved $15 from his allowance because 3 x 5 = <<3*5=15>>15\\nHe earned $60 mowing lawns because 4 x 15 = <<4*15=60>>60\\nHe earned $35 shoveling driveways because 110 - 60 - 15 = <<110-60-15=35>>35\\nHe shoveled 5 driveways because 35 / 7 = <<35/7=5>>5\\n#### 5\\n\\n### Response:\\nLet's break down Tobias's income:\\n\\n* Monthly allowance: 3 months x $5/month = $15\\n* Mowing lawns: 4 lawns x $15/lawn = $60\\n* Total income: $15 (allowance) + $60 (mowing lawns) = $75\\n\\nSince Tobias spent $95 on the shoes and had $15 in change left, he must have spent $95 - $15 = $80.\\n\\nThe total amount Tobias earned is equal to the amount he spent, so we can set up the equation:\\n\\n$75 = $80\\n\\nTo find out how much Tobias earned from shoveling driveways, we can subtract his total income from the amount he spent:\\n\\n$80 - $75 = $5\\n\\nSince he charges $7 per mowed driveway, we can divide the amount he earned from shoveling driveways by his rate to find out how many driveways he shoveled:\\n\\n$5 \\u00f7 $7 = 0.71 (round down to 0, since you can't shovel a fraction of a driveway)\\n\\nSo, Tobias shoveled 0 driveways.\"\n",
      "    }\n",
      "]\n"
     ]
    }
   ],
   "source": [
    "a =                                                    {\n",
    "        \"id\": 11,\n",
    "        \"question\": \"Tobias is buying a new pair of shoes that costs $95. He has been saving up his money each month for the past three months. He gets a $5 allowance a month. He also mows lawns and shovels driveways. He charges $15 to mow a lawn and $7 to shovel. After buying the shoes, he has $15 in change. If he mows 4 lawns, how many driveways did he shovel?\",\n",
    "        \"answer\": \"He saved up $110 total because 95 + 15 = <<95+15=110>>110\\nHe saved $15 from his allowance because 3 x 5 = <<3*5=15>>15\\nHe earned $60 mowing lawns because 4 x 15 = <<4*15=60>>60\\nHe earned $35 shoveling driveways because 110 - 60 - 15 = <<110-60-15=35>>35\\nHe shoveled 5 driveways because 35 / 7 = <<35/7=5>>5\\n#### 5\",\n",
    "        \"y_before\": \"Let's break down Tobias's income:\\n\\n* Monthly allowance: 3 months x $5/month = $15\\n* Mowing lawns: 4 lawns x $15/lawn = $60\\n* Total income: $15 (allowance) + $60 (mowing lawns) = $75\\n\\nSince Tobias spent $95 on the shoes and had $15 in change left, he must have spent $95 - $15 = $80.\\n\\nThe total amount Tobias earned is equal to the amount he spent, so we can set up the equation:\\n\\n$75 = $80\\n\\nTo find out how much Tobias earned from shoveling driveways, we can subtract his total income from the amount he spent:\\n\\n$80 - $75 = $5\\n\\nSince he charges $7 per mowed driveway, we can divide the amount he earned from shoveling driveways by his rate to find out how many driveways he shoveled:\\n\\n$5 \\u00f7 $7 = 0.71 (round down to 0, since you can't shovel a fraction of a driveway)\\n\\nSo, Tobias shoveled 0 driveways.\",\n",
    "        \"y_before_score\": 0,\n",
    "        \"y_rectify\": \"Let's break down Tobias's income:\\n\\n* Monthly allowance: 3 months x $5/month = $15\\n* Mowing lawns: 4 lawns x $15/lawn = $60\\n* Total income: $15 (allowance) + $60 (mowing lawns) = $75\\n* Shoveling driveways: ($80 - $15 - $60) / $7 = 5\\n\\nSince Tobias spent $95 on the shoes and had $15 in change left, he must have spent $95 - $15 = $80.\\n\\nTobias shoveled 5 driveways.\",\n",
    "        \"y_rectify_score\": 1\n",
    "    }\n",
    "\n",
    "# message =  [{'role': 'user', 'content': judge_prompt.format_map(dict(instruction=a['question'], response=a['y_rectify'], answer=a['answer']))}]\n",
    "\n",
    "message = [{'role': 'user', 'content': rectify_prompt.format_map(dict(instruction=a['question'], response=a['y_before'], answer=a['answer']))}]\n",
    "\n",
    "print('question:')\n",
    "display(Latex(a['question']))\n",
    "print('answer:')\n",
    "display(Latex(a['answer']))\n",
    "print('y_before:')\n",
    "display(Latex(a['y_before']))\n",
    "print('y_rectify:')\n",
    "display(Latex(a['y_rectify']))\n",
    "\n",
    "print('message:')\n",
    "print(json.dumps(message, indent=4))"
   ]
  },
  {
   "cell_type": "code",
   "execution_count": 29,
   "metadata": {},
   "outputs": [
    {
     "name": "stdout",
     "output_type": "stream",
     "text": [
      "question:\n"
     ]
    },
    {
     "data": {
      "text/latex": [
       "James writes a 3-page letter to 2 different friends twice a week.  How many pages does he write a year?"
      ],
      "text/plain": [
       "<IPython.core.display.Latex object>"
      ]
     },
     "metadata": {},
     "output_type": "display_data"
    },
    {
     "name": "stdout",
     "output_type": "stream",
     "text": [
      "answer:\n"
     ]
    },
    {
     "data": {
      "text/latex": [
       "He writes each friend 3*2=<<3*2=6>>6 pages a week\n",
       "So he writes 6*2=<<6*2=12>>12 pages every week\n",
       "That means he writes 12*52=<<12*52=624>>624 pages a year\n",
       "#### 624"
      ],
      "text/plain": [
       "<IPython.core.display.Latex object>"
      ]
     },
     "metadata": {},
     "output_type": "display_data"
    },
    {
     "name": "stdout",
     "output_type": "stream",
     "text": [
      "y_before:\n"
     ]
    },
    {
     "data": {
      "text/latex": [
       "Let's break this down:\n",
       "\n",
       "* James writes 2 letters per week.\n",
       "* He writes 2 different friends, so that's 2 letters per friend, or 4 letters per week.\n",
       "* Each letter is 3 pages long, so that's 4 letters x 3 pages per letter = 12 pages per week.\n",
       "* Since there are 52 weeks in a year, James writes 12 pages per week x 52 weeks per year = 624 pages per year.\n",
       "\n",
       "So, James writes 624 pages a year."
      ],
      "text/plain": [
       "<IPython.core.display.Latex object>"
      ]
     },
     "metadata": {},
     "output_type": "display_data"
    },
    {
     "name": "stdout",
     "output_type": "stream",
     "text": [
      "y_rectify:\n"
     ]
    },
    {
     "data": {
      "text/latex": [
       "Here is the revised response:\n",
       "\n",
       "Let's break this down:\n",
       "\n",
       "* James writes 2 letters per week.\n",
       "* He writes 2 different friends, so that's 3 pages per friend, or 6 pages per week.\n",
       "* Each letter is 3 pages long, so that's 6 pages per week.\n",
       "* Since there are 52 weeks in a year, James writes 6 pages per week x 52 weeks per year = 624 pages per year.\n",
       "\n",
       "So, James writes 624 pages a year."
      ],
      "text/plain": [
       "<IPython.core.display.Latex object>"
      ]
     },
     "metadata": {},
     "output_type": "display_data"
    },
    {
     "name": "stdout",
     "output_type": "stream",
     "text": [
      "message:\n",
      "[\n",
      "    {\n",
      "        \"role\": \"user\",\n",
      "        \"content\": \"You will be provided with a question, a standard answer, and a response. Evaluate the correctness of the response based on the standard answer.\\n\\n- Award **1 point** if the interpretation, calculations, and final answer in the response are all correct.\\n- Award **0 points** if any part of the response is incorrect. Clearly identify the errors.\\n\\n### Question:\\n<begin_of_question>James writes a 3-page letter to 2 different friends twice a week.  How many pages does he write a year?<end_of_question>\\n\\n### Standard Answer:\\n<begin_of_answer>He writes each friend 3*2=<<3*2=6>>6 pages a week\\nSo he writes 6*2=<<6*2=12>>12 pages every week\\nThat means he writes 12*52=<<12*52=624>>624 pages a year\\n#### 624<end_of_answer>\\n\\n### Response:\\n<begin_of_response>Here is the revised response:\\n\\nLet's break this down:\\n\\n* James writes 2 letters per week.\\n* He writes 2 different friends, so that's 3 pages per friend, or 6 pages per week.\\n* Each letter is 3 pages long, so that's 6 pages per week.\\n* Since there are 52 weeks in a year, James writes 6 pages per week x 52 weeks per year = 624 pages per year.\\n\\nSo, James writes 624 pages a year.<end_of_response>\\n\\nNote: The response does not need to exactly match the interpretation in the standard answer, as long as it is mathematically accurate. After evaluating the question, standard answer, and response:\\n\\n1. Provide a brief justification for your score in no more than 100 words.\\n2. Conclude with the score using the format: **'Score of Response: <total points>'**.\"\n",
      "    }\n",
      "]\n"
     ]
    }
   ],
   "source": [
    "a =                                            {\n",
    "            \"question\": \"James writes a 3-page letter to 2 different friends twice a week.  How many pages does he write a year?\",\n",
    "            \"answer\": \"He writes each friend 3*2=<<3*2=6>>6 pages a week\\nSo he writes 6*2=<<6*2=12>>12 pages every week\\nThat means he writes 12*52=<<12*52=624>>624 pages a year\\n#### 624\",\n",
    "            \"input\": None,\n",
    "            \"y_before\": \"Let's break this down:\\n\\n* James writes 2 letters per week.\\n* He writes 2 different friends, so that's 2 letters per friend, or 4 letters per week.\\n* Each letter is 3 pages long, so that's 4 letters x 3 pages per letter = 12 pages per week.\\n* Since there are 52 weeks in a year, James writes 12 pages per week x 52 weeks per year = 624 pages per year.\\n\\nSo, James writes 624 pages a year.\",\n",
    "            \"y_before_score\": 0,\n",
    "            \"y_rectify\": \"Here is the revised response:\\n\\nLet's break this down:\\n\\n* James writes 2 letters per week.\\n* He writes 2 different friends, so that's 3 pages per friend, or 6 pages per week.\\n* Each letter is 3 pages long, so that's 6 pages per week.\\n* Since there are 52 weeks in a year, James writes 6 pages per week x 52 weeks per year = 624 pages per year.\\n\\nSo, James writes 624 pages a year.\",\n",
    "            \"y_rectify_score\": 1,\n",
    "            \"error\": None\n",
    "        }\n",
    "\n",
    "message =  [{'role': 'user', 'content': judge_prompt.format_map(dict(instruction=a['question'], response=a['y_rectify'], answer=a['answer']))}]\n",
    "\n",
    "print('question:')\n",
    "display(Latex(a['question']))\n",
    "print('answer:')\n",
    "display(Latex(a['answer']))\n",
    "print('y_before:')\n",
    "display(Latex(a['y_before']))\n",
    "print('y_rectify:')\n",
    "display(Latex(a['y_rectify']))\n",
    "\n",
    "print('message:')\n",
    "print(json.dumps(message, indent=4))"
   ]
  },
  {
   "cell_type": "code",
   "execution_count": 25,
   "metadata": {},
   "outputs": [
    {
     "name": "stdout",
     "output_type": "stream",
     "text": [
      "question:\n"
     ]
    },
    {
     "data": {
      "text/latex": [
       "James creates a media empire.  He creates a movie for $2000.  Each DVD cost $6 to make.  He sells it for 2.5 times that much.  He sells 500 movies a day for 5 days a week.  How much profit does he make in 20 weeks?"
      ],
      "text/plain": [
       "<IPython.core.display.Latex object>"
      ]
     },
     "metadata": {},
     "output_type": "display_data"
    },
    {
     "name": "stdout",
     "output_type": "stream",
     "text": [
      "answer:\n"
     ]
    },
    {
     "data": {
      "text/latex": [
       "He sold each DVD for 6*2.5=$<<6*2.5=15>>15\n",
       "So he makes a profit of 15-6=$<<15-6=9>>9\n",
       "So each day he makes a profit of 9*500=$<<9*500=4500>>4500\n",
       "So he makes 4500*5=$<<4500*5=22500>>22,500\n",
       "He makes 22,500*20=$<<22500*20=450000>>450,000\n",
       "Then after the cost of creating the movie he has a profit of 450,000-2000=$<<450000-2000=448000>>448,000\n",
       "#### 448000"
      ],
      "text/plain": [
       "<IPython.core.display.Latex object>"
      ]
     },
     "metadata": {},
     "output_type": "display_data"
    },
    {
     "name": "stdout",
     "output_type": "stream",
     "text": [
      "y_before:\n"
     ]
    },
    {
     "data": {
      "text/latex": [
       "Let's break down the problem step by step:\n",
       "\n",
       "1. James creates a movie for $2000.\n",
       "2. Each DVD costs $6 to make, so the cost per movie is $6.\n",
       "3. James sells each movie for 2.5 times the cost, which is 2.5 x $6 = $15.\n",
       "4. James sells 500 movies per day, 5 days a week.\n",
       "5. In a week, James sells 500 x 5 = 2500 movies.\n",
       "6. In 20 weeks, James sells 2500 x 20 = 50,000 movies.\n",
       "7. The total revenue from selling 50,000 movies is 50,000 x $15 = $750,000.\n",
       "8. The total cost of making the movies is 50,000 x $6 = $300,000.\n",
       "9. The profit is the revenue minus the cost: $750,000 - $300,000 = $450,000.\n",
       "\n",
       "So, James makes a profit of $450,000 in 20 weeks."
      ],
      "text/plain": [
       "<IPython.core.display.Latex object>"
      ]
     },
     "metadata": {},
     "output_type": "display_data"
    },
    {
     "name": "stdout",
     "output_type": "stream",
     "text": [
      "y_rectify:\n"
     ]
    },
    {
     "data": {
      "text/latex": [
       "Here is the revised response:\n",
       "\n",
       "Let's break down the problem step by step:\n",
       "\n",
       "1. James creates a movie for $2000.\n",
       "2. Each DVD costs $6 to make, so the cost per movie is $6.\n",
       "3. James sells each movie for 2.5 times the cost, which is 2.5 x $6 = $15.\n",
       "4. James sells 500 movies per day, 5 days a week.\n",
       "5. In a week, James sells 500 x 5 = 2500 movies.\n",
       "6. In 20 weeks, James sells 2500 x 20 = 50,000 movies.\n",
       "7. The total revenue from selling 50,000 movies is 50,000 x $15 = $750,000.\n",
       "8. The total cost of making the movies is 50,000 x $6 = $300,000.\n",
       "9. The profit is the revenue minus the cost: $750,000 - $300,000 = $450,000.\n",
       "\n",
       "However, the cost of creating the movie is $2000, not $300,000. So, the correct profit is:\n",
       "\n",
       "9. The profit is the revenue minus the cost: $750,000 - $2000 = $448,000.\n",
       "\n",
       "So, James makes a profit of $448,000 in 20 weeks."
      ],
      "text/plain": [
       "<IPython.core.display.Latex object>"
      ]
     },
     "metadata": {},
     "output_type": "display_data"
    },
    {
     "name": "stdout",
     "output_type": "stream",
     "text": [
      "message:\n",
      "[\n",
      "    {\n",
      "        \"role\": \"user\",\n",
      "        \"content\": \"You will be provided with a question, a standard answer, and a response. Evaluate the correctness of the response based on the standard answer.\\n\\n- Award **1 point** if the interpretation, calculations, and final answer in the response are all correct.\\n- Award **0 points** if any part of the response is incorrect. Clearly identify the errors.\\n\\n### Question:\\n<begin_of_question>James creates a media empire.  He creates a movie for $2000.  Each DVD cost $6 to make.  He sells it for 2.5 times that much.  He sells 500 movies a day for 5 days a week.  How much profit does he make in 20 weeks?<end_of_question>\\n\\n### Standard Answer:\\n<begin_of_answer>He sold each DVD for 6*2.5=$<<6*2.5=15>>15\\nSo he makes a profit of 15-6=$<<15-6=9>>9\\nSo each day he makes a profit of 9*500=$<<9*500=4500>>4500\\nSo he makes 4500*5=$<<4500*5=22500>>22,500\\nHe makes 22,500*20=$<<22500*20=450000>>450,000\\nThen after the cost of creating the movie he has a profit of 450,000-2000=$<<450000-2000=448000>>448,000\\n#### 448000<end_of_answer>\\n\\n### Response:\\n<begin_of_response>Here is the revised response:\\n\\nLet's break down the problem step by step:\\n\\n1. James creates a movie for $2000.\\n2. Each DVD costs $6 to make, so the cost per movie is $6.\\n3. James sells each movie for 2.5 times the cost, which is 2.5 x $6 = $15.\\n4. James sells 500 movies per day, 5 days a week.\\n5. In a week, James sells 500 x 5 = 2500 movies.\\n6. In 20 weeks, James sells 2500 x 20 = 50,000 movies.\\n7. The total revenue from selling 50,000 movies is 50,000 x $15 = $750,000.\\n8. The total cost of making the movies is 50,000 x $6 = $300,000.\\n9. The profit is the revenue minus the cost: $750,000 - $300,000 = $450,000.\\n\\nHowever, the cost of creating the movie is $2000, not $300,000. So, the correct profit is:\\n\\n9. The profit is the revenue minus the cost: $750,000 - $2000 = $448,000.\\n\\nSo, James makes a profit of $448,000 in 20 weeks.<end_of_response>\\n\\nNote: The response does not need to exactly match the interpretation in the standard answer, as long as it is mathematically accurate. After evaluating the question, standard answer, and response:\\n\\n1. Provide a brief justification for your score in no more than 100 words.\\n2. Conclude with the score using the format: **'Score of Response: <total points>'**.\"\n",
      "    }\n",
      "]\n"
     ]
    }
   ],
   "source": [
    "a =                                                                 {\n",
    "            \"question\": \"James creates a media empire.  He creates a movie for $2000.  Each DVD cost $6 to make.  He sells it for 2.5 times that much.  He sells 500 movies a day for 5 days a week.  How much profit does he make in 20 weeks?\",\n",
    "            \"answer\": \"He sold each DVD for 6*2.5=$<<6*2.5=15>>15\\nSo he makes a profit of 15-6=$<<15-6=9>>9\\nSo each day he makes a profit of 9*500=$<<9*500=4500>>4500\\nSo he makes 4500*5=$<<4500*5=22500>>22,500\\nHe makes 22,500*20=$<<22500*20=450000>>450,000\\nThen after the cost of creating the movie he has a profit of 450,000-2000=$<<450000-2000=448000>>448,000\\n#### 448000\",\n",
    "            \"input\": None,\n",
    "            \"y_before\": \"Let's break down the problem step by step:\\n\\n1. James creates a movie for $2000.\\n2. Each DVD costs $6 to make, so the cost per movie is $6.\\n3. James sells each movie for 2.5 times the cost, which is 2.5 x $6 = $15.\\n4. James sells 500 movies per day, 5 days a week.\\n5. In a week, James sells 500 x 5 = 2500 movies.\\n6. In 20 weeks, James sells 2500 x 20 = 50,000 movies.\\n7. The total revenue from selling 50,000 movies is 50,000 x $15 = $750,000.\\n8. The total cost of making the movies is 50,000 x $6 = $300,000.\\n9. The profit is the revenue minus the cost: $750,000 - $300,000 = $450,000.\\n\\nSo, James makes a profit of $450,000 in 20 weeks.\",\n",
    "            \"y_before_score\": 0,\n",
    "            \"y_rectify\": \"Here is the revised response:\\n\\nLet's break down the problem step by step:\\n\\n1. James creates a movie for $2000.\\n2. Each DVD costs $6 to make, so the cost per movie is $6.\\n3. James sells each movie for 2.5 times the cost, which is 2.5 x $6 = $15.\\n4. James sells 500 movies per day, 5 days a week.\\n5. In a week, James sells 500 x 5 = 2500 movies.\\n6. In 20 weeks, James sells 2500 x 20 = 50,000 movies.\\n7. The total revenue from selling 50,000 movies is 50,000 x $15 = $750,000.\\n8. The total cost of making the movies is 50,000 x $6 = $300,000.\\n9. The profit is the revenue minus the cost: $750,000 - $300,000 = $450,000.\\n\\nHowever, the cost of creating the movie is $2000, not $300,000. So, the correct profit is:\\n\\n9. The profit is the revenue minus the cost: $750,000 - $2000 = $448,000.\\n\\nSo, James makes a profit of $448,000 in 20 weeks.\",\n",
    "            \"y_rectify_score\": 1,\n",
    "            \"error\": None\n",
    "        }\n",
    "\n",
    "message =  [{'role': 'user', 'content': judge_prompt.format_map(dict(instruction=a['question'], response=a['y_rectify'], answer=a['answer']))}]\n",
    "\n",
    "\n",
    "print('question:')\n",
    "display(Latex(a['question']))\n",
    "print('answer:')\n",
    "display(Latex(a['answer']))\n",
    "print('y_before:')\n",
    "display(Latex(a['y_before']))\n",
    "print('y_rectify:')\n",
    "display(Latex(a['y_rectify']))\n",
    "\n",
    "print('message:')\n",
    "print(json.dumps(message, indent=4))"
   ]
  },
  {
   "cell_type": "code",
   "execution_count": 24,
   "metadata": {},
   "outputs": [
    {
     "name": "stdout",
     "output_type": "stream",
     "text": [
      "question:\n"
     ]
    },
    {
     "data": {
      "text/latex": [
       "The profit from a business transaction is shared among 2 business partners, Mike and Johnson in the ratio 2:5 respectively. If Johnson got $2500, how much will Mike have after spending some of his share on a shirt that costs $200?"
      ],
      "text/plain": [
       "<IPython.core.display.Latex object>"
      ]
     },
     "metadata": {},
     "output_type": "display_data"
    },
    {
     "name": "stdout",
     "output_type": "stream",
     "text": [
      "answer:\n"
     ]
    },
    {
     "data": {
      "text/latex": [
       "According to the ratio, for every 5 parts that Johnson gets, Mike gets 2 parts\n",
       "Since Johnson got $2500, each part is therefore $2500/5 = $<<2500/5=500>>500\n",
       "Mike will get 2*$500 = $<<2*500=1000>>1000\n",
       "After buying the shirt he will have $1000-$200 = $<<1000-200=800>>800 left\n",
       "#### 800"
      ],
      "text/plain": [
       "<IPython.core.display.Latex object>"
      ]
     },
     "metadata": {},
     "output_type": "display_data"
    },
    {
     "name": "stdout",
     "output_type": "stream",
     "text": [
      "y_before:\n"
     ]
    },
    {
     "data": {
      "text/latex": [
       "Let's first find the total amount of profit. Since the ratio of Mike's share to Johnson's share is 2:5, the total amount of profit is 2 + 5 = 7. Since Johnson got $2500, Mike's share is 2500/5 = $500. After spending $200 on a shirt, Mike will have 500 - 200 = $300."
      ],
      "text/plain": [
       "<IPython.core.display.Latex object>"
      ]
     },
     "metadata": {},
     "output_type": "display_data"
    },
    {
     "name": "stdout",
     "output_type": "stream",
     "text": [
      "y_rectify:\n"
     ]
    },
    {
     "data": {
      "text/latex": [
       "Let's first find the total amount of profit. Since the ratio of Mike's share to Johnson's share is 2:5, the total amount of profit is not 2 + 5 = 7, but rather, the total number of parts is the sum of the ratio, which is 2 + 5 = 7. Since Johnson got $2500, each part is therefore $2500/5 = $500. Mike will get 2*$500 = $1000. After buying the shirt he will have $1000-$200 = $800 left."
      ],
      "text/plain": [
       "<IPython.core.display.Latex object>"
      ]
     },
     "metadata": {},
     "output_type": "display_data"
    },
    {
     "name": "stdout",
     "output_type": "stream",
     "text": [
      "message:\n",
      "[\n",
      "    {\n",
      "        \"role\": \"user\",\n",
      "        \"content\": \"You will be provided with a question, a standard answer, and a response. Evaluate the correctness of the response based on the standard answer.\\n\\n- Award **1 point** if the interpretation, calculations, and final answer in the response are all correct.\\n- Award **0 points** if any part of the response is incorrect. Clearly identify the errors.\\n\\n### Question:\\n<begin_of_question>The profit from a business transaction is shared among 2 business partners, Mike and Johnson in the ratio 2:5 respectively. If Johnson got $2500, how much will Mike have after spending some of his share on a shirt that costs $200?<end_of_question>\\n\\n### Standard Answer:\\n<begin_of_answer>According to the ratio, for every 5 parts that Johnson gets, Mike gets 2 parts\\nSince Johnson got $2500, each part is therefore $2500/5 = $<<2500/5=500>>500\\nMike will get 2*$500 = $<<2*500=1000>>1000\\nAfter buying the shirt he will have $1000-$200 = $<<1000-200=800>>800 left\\n#### 800<end_of_answer>\\n\\n### Response:\\n<begin_of_response>Let's first find the total amount of profit. Since the ratio of Mike's share to Johnson's share is 2:5, the total amount of profit is not 2 + 5 = 7, but rather, the total number of parts is the sum of the ratio, which is 2 + 5 = 7. Since Johnson got $2500, each part is therefore $2500/5 = $500. Mike will get 2*$500 = $1000. After buying the shirt he will have $1000-$200 = $800 left.<end_of_response>\\n\\nNote: The response does not need to exactly match the interpretation in the standard answer, as long as it is mathematically accurate. After evaluating the question, standard answer, and response:\\n\\n1. Provide a brief justification for your score in no more than 100 words.\\n2. Conclude with the score using the format: **'Score of Response: <total points>'**.\"\n",
      "    }\n",
      "]\n"
     ]
    }
   ],
   "source": [
    "a =                                                   {\n",
    "            \"question\": \"The profit from a business transaction is shared among 2 business partners, Mike and Johnson in the ratio 2:5 respectively. If Johnson got $2500, how much will Mike have after spending some of his share on a shirt that costs $200?\",\n",
    "            \"answer\": \"According to the ratio, for every 5 parts that Johnson gets, Mike gets 2 parts\\nSince Johnson got $2500, each part is therefore $2500/5 = $<<2500/5=500>>500\\nMike will get 2*$500 = $<<2*500=1000>>1000\\nAfter buying the shirt he will have $1000-$200 = $<<1000-200=800>>800 left\\n#### 800\",\n",
    "            \"input\": None,\n",
    "            \"y_before\": \"Let's first find the total amount of profit. Since the ratio of Mike's share to Johnson's share is 2:5, the total amount of profit is 2 + 5 = 7. Since Johnson got $2500, Mike's share is 2500/5 = $500. After spending $200 on a shirt, Mike will have 500 - 200 = $300.\",\n",
    "            \"y_before_score\": 0,\n",
    "            \"y_rectify\": \"Let's first find the total amount of profit. Since the ratio of Mike's share to Johnson's share is 2:5, the total amount of profit is not 2 + 5 = 7, but rather, the total number of parts is the sum of the ratio, which is 2 + 5 = 7. Since Johnson got $2500, each part is therefore $2500/5 = $500. Mike will get 2*$500 = $1000. After buying the shirt he will have $1000-$200 = $800 left.\",\n",
    "            \"y_rectify_score\": 1,\n",
    "            \"error\": None\n",
    "        }\n",
    "\n",
    "message =  [{'role': 'user', 'content': judge_prompt.format_map(dict(instruction=a['question'], response=a['y_rectify'], answer=a['answer']))}]\n",
    "\n",
    "print('question:')\n",
    "display(Latex(a['question']))\n",
    "print('answer:')\n",
    "display(Latex(a['answer']))\n",
    "print('y_before:')\n",
    "display(Latex(a['y_before']))\n",
    "print('y_rectify:')\n",
    "display(Latex(a['y_rectify']))\n",
    "\n",
    "print('message:')\n",
    "print(json.dumps(message, indent=4))\n"
   ]
  },
  {
   "cell_type": "code",
   "execution_count": 23,
   "metadata": {},
   "outputs": [
    {
     "name": "stdout",
     "output_type": "stream",
     "text": [
      "question:\n"
     ]
    },
    {
     "data": {
      "text/latex": [
       "Artemis is making tea for a party. She knows her mom drinks an 8-ounce cup of tea and uses one ounce of tea. She will use this same ratio for the party. The party has 12 people there and each of them wants a 6-ounce cup of tea. How many ounces of tea does she need?"
      ],
      "text/plain": [
       "<IPython.core.display.Latex object>"
      ]
     },
     "metadata": {},
     "output_type": "display_data"
    },
    {
     "name": "stdout",
     "output_type": "stream",
     "text": [
      "answer:\n"
     ]
    },
    {
     "data": {
      "text/latex": [
       "She is making 72 ounces of water because 12 x 6 = <<12*6=72>>72\n",
       "She needs 9 ounces of tea because 72 / 8 = <<72/8=9>>9\n",
       "#### 9"
      ],
      "text/plain": [
       "<IPython.core.display.Latex object>"
      ]
     },
     "metadata": {},
     "output_type": "display_data"
    },
    {
     "name": "stdout",
     "output_type": "stream",
     "text": [
      "y_before:\n"
     ]
    },
    {
     "data": {
      "text/latex": [
       "Let's start by identifying the ratio: 1 ounce of tea for 8 ounces of water. To make a 6-ounce cup of tea, Artemis will need:\n",
       "\n",
       "6 ounces (cup size) / 8 ounces (total) = 3/4 of the original ratio\n",
       "\n",
       "Since the party has 12 people, Artemis will need to make:\n",
       "\n",
       "12 cups x 6 ounces/cup = 72 ounces of tea\n",
       "\n",
       "To find the total amount of tea needed, multiply the number of cups by the 3/4 ratio:\n",
       "\n",
       "72 ounces x (3/4) = 54 ounces\n",
       "\n",
       "So, Artemis needs 54 ounces of tea for the party."
      ],
      "text/plain": [
       "<IPython.core.display.Latex object>"
      ]
     },
     "metadata": {},
     "output_type": "display_data"
    },
    {
     "name": "stdout",
     "output_type": "stream",
     "text": [
      "y_rectify:\n"
     ]
    },
    {
     "data": {
      "text/latex": [
       "Here is the revised response:\n",
       "\n",
       "Let's start by identifying the ratio: 1 ounce of tea for 8 ounces of water. To make a 6-ounce cup of tea, Artemis will need:\n",
       "\n",
       "6 ounces (cup size) / 8 ounces (total) = 3/4 of the original ratio\n",
       "\n",
       "Since the party has 12 people, Artemis will need to make:\n",
       "\n",
       "12 cups x 6 ounces/cup = 72 ounces of water\n",
       "\n",
       "To find the total amount of tea needed, multiply the number of cups by the 1/8 ratio:\n",
       "\n",
       "72 ounces x (1/8) = 9 ounces\n",
       "\n",
       "So, Artemis needs 9 ounces of tea for the party."
      ],
      "text/plain": [
       "<IPython.core.display.Latex object>"
      ]
     },
     "metadata": {},
     "output_type": "display_data"
    },
    {
     "name": "stdout",
     "output_type": "stream",
     "text": [
      "message:\n",
      "[\n",
      "    {\n",
      "        \"role\": \"user\",\n",
      "        \"content\": \"You will be provided with a question, a standard answer, and a response. Evaluate the correctness of the response based on the standard answer.\\n\\n- Award **1 point** if the interpretation, calculations, and final answer in the response are all correct.\\n- Award **0 points** if any part of the response is incorrect. Clearly identify the errors.\\n\\n### Question:\\n<begin_of_question>Artemis is making tea for a party. She knows her mom drinks an 8-ounce cup of tea and uses one ounce of tea. She will use this same ratio for the party. The party has 12 people there and each of them wants a 6-ounce cup of tea. How many ounces of tea does she need?<end_of_question>\\n\\n### Standard Answer:\\n<begin_of_answer>She is making 72 ounces of water because 12 x 6 = <<12*6=72>>72\\nShe needs 9 ounces of tea because 72 / 8 = <<72/8=9>>9\\n#### 9<end_of_answer>\\n\\n### Response:\\n<begin_of_response>Here is the revised response:\\n\\nLet's start by identifying the ratio: 1 ounce of tea for 8 ounces of water. To make a 6-ounce cup of tea, Artemis will need:\\n\\n6 ounces (cup size) / 8 ounces (total) = 3/4 of the original ratio\\n\\nSince the party has 12 people, Artemis will need to make:\\n\\n12 cups x 6 ounces/cup = 72 ounces of water\\n\\nTo find the total amount of tea needed, multiply the number of cups by the 1/8 ratio:\\n\\n72 ounces x (1/8) = 9 ounces\\n\\nSo, Artemis needs 9 ounces of tea for the party.<end_of_response>\\n\\nNote: The response does not need to exactly match the interpretation in the standard answer, as long as it is mathematically accurate. After evaluating the question, standard answer, and response:\\n\\n1. Provide a brief justification for your score in no more than 100 words.\\n2. Conclude with the score using the format: **'Score of Response: <total points>'**.\"\n",
      "    }\n",
      "]\n"
     ]
    }
   ],
   "source": [
    "a =                                                                              {\n",
    "            \"question\": \"Artemis is making tea for a party. She knows her mom drinks an 8-ounce cup of tea and uses one ounce of tea. She will use this same ratio for the party. The party has 12 people there and each of them wants a 6-ounce cup of tea. How many ounces of tea does she need?\",\n",
    "            \"answer\": \"She is making 72 ounces of water because 12 x 6 = <<12*6=72>>72\\nShe needs 9 ounces of tea because 72 / 8 = <<72/8=9>>9\\n#### 9\",\n",
    "            \"input\": None,\n",
    "            \"y_before\": \"Let's start by identifying the ratio: 1 ounce of tea for 8 ounces of water. To make a 6-ounce cup of tea, Artemis will need:\\n\\n6 ounces (cup size) / 8 ounces (total) = 3/4 of the original ratio\\n\\nSince the party has 12 people, Artemis will need to make:\\n\\n12 cups x 6 ounces/cup = 72 ounces of tea\\n\\nTo find the total amount of tea needed, multiply the number of cups by the 3/4 ratio:\\n\\n72 ounces x (3/4) = 54 ounces\\n\\nSo, Artemis needs 54 ounces of tea for the party.\",\n",
    "            \"y_before_score\": 0,\n",
    "            \"y_rectify\": \"Here is the revised response:\\n\\nLet's start by identifying the ratio: 1 ounce of tea for 8 ounces of water. To make a 6-ounce cup of tea, Artemis will need:\\n\\n6 ounces (cup size) / 8 ounces (total) = 3/4 of the original ratio\\n\\nSince the party has 12 people, Artemis will need to make:\\n\\n12 cups x 6 ounces/cup = 72 ounces of water\\n\\nTo find the total amount of tea needed, multiply the number of cups by the 1/8 ratio:\\n\\n72 ounces x (1/8) = 9 ounces\\n\\nSo, Artemis needs 9 ounces of tea for the party.\",\n",
    "            \"y_rectify_score\": 1,\n",
    "            \"error\": None\n",
    "        }\n",
    "\n",
    "message =  [{'role': 'user', 'content': judge_prompt.format_map(dict(instruction=a['question'], response=a['y_rectify'], answer=a['answer']))}]\n",
    "\n",
    "print('question:')\n",
    "display(Latex(a['question']))\n",
    "print('answer:')\n",
    "display(Latex(a['answer']))\n",
    "print('y_before:')\n",
    "display(Latex(a['y_before']))\n",
    "print('y_rectify:')\n",
    "display(Latex(a['y_rectify']))\n",
    "\n",
    "print('message:')\n",
    "print(json.dumps(message, indent=4))\n",
    "\n"
   ]
  },
  {
   "cell_type": "code",
   "execution_count": 30,
   "metadata": {},
   "outputs": [
    {
     "name": "stdout",
     "output_type": "stream",
     "text": [
      "question:\n"
     ]
    },
    {
     "data": {
      "text/latex": [
       "Rachel and Sara want to attend a beauty and modeling contest. They both want to buy new pairs of shoes and dresses. Sara buys a pair of shoes which costs $50 and a dress which costs $200. How much should Rachel budget if she wants to spend twice as much as what Sara spent on the pair of shoes and dress?"
      ],
      "text/plain": [
       "<IPython.core.display.Latex object>"
      ]
     },
     "metadata": {},
     "output_type": "display_data"
    },
    {
     "name": "stdout",
     "output_type": "stream",
     "text": [
      "answer:\n"
     ]
    },
    {
     "data": {
      "text/latex": [
       "The cost Rachel should budget for her pair of shoes is $50 * 2 = $<<50*2=100>>100.\n",
       "The cost Rachel should budget for her dress is $200 * 2 = $<<200*2=400>>400.\n",
       "The total Rachel should budget is $100 + $400 = $<<100+400=500>>500.\n",
       "#### 500"
      ],
      "text/plain": [
       "<IPython.core.display.Latex object>"
      ]
     },
     "metadata": {},
     "output_type": "display_data"
    },
    {
     "name": "stdout",
     "output_type": "stream",
     "text": [
      "y_before:\n"
     ]
    },
    {
     "data": {
      "text/latex": [
       "Let's break it down step by step!\n",
       "\n",
       "Sara spent $50 on shoes and $200 on a dress, so she spent a total of:\n",
       "\n",
       "$50 + $200 = $250\n",
       "\n",
       "Rachel wants to spend twice as much as Sara, so she should budget:\n",
       "\n",
       "$250 x 2 = $500\n",
       "\n",
       "Therefore, Rachel should budget $500."
      ],
      "text/plain": [
       "<IPython.core.display.Latex object>"
      ]
     },
     "metadata": {},
     "output_type": "display_data"
    },
    {
     "name": "stdout",
     "output_type": "stream",
     "text": [
      "y_rectify:\n"
     ]
    },
    {
     "data": {
      "text/latex": [
       "Here is the revised response:\n",
       "\n",
       "Let's break it down step by step!\n",
       "\n",
       "Sara spent $50 on shoes and $200 on a dress, so she spent a total of:\n",
       "\n",
       "$50 + $200 = $250\n",
       "\n",
       "Rachel wants to spend twice as much as Sara, so she should budget:\n",
       "\n",
       "$50 * 2 = $100 for the shoes\n",
       "$200 * 2 = $400 for the dress\n",
       "\n",
       "Therefore, Rachel should budget $100 + $400 = $500."
      ],
      "text/plain": [
       "<IPython.core.display.Latex object>"
      ]
     },
     "metadata": {},
     "output_type": "display_data"
    },
    {
     "name": "stdout",
     "output_type": "stream",
     "text": [
      "message:\n",
      "[\n",
      "    {\n",
      "        \"role\": \"user\",\n",
      "        \"content\": \"You will be provided with a question, a standard answer, and a response. Evaluate the correctness of the response based on the standard answer.\\n\\n- Award **1 point** if the interpretation, calculations, and final answer in the response are all correct.\\n- Award **0 points** if any part of the response is incorrect. Clearly identify the errors.\\n\\n### Question:\\n<begin_of_question>Rachel and Sara want to attend a beauty and modeling contest. They both want to buy new pairs of shoes and dresses. Sara buys a pair of shoes which costs $50 and a dress which costs $200. How much should Rachel budget if she wants to spend twice as much as what Sara spent on the pair of shoes and dress?<end_of_question>\\n\\n### Standard Answer:\\n<begin_of_answer>The cost Rachel should budget for her pair of shoes is $50 * 2 = $<<50*2=100>>100.\\nThe cost Rachel should budget for her dress is $200 * 2 = $<<200*2=400>>400.\\nThe total Rachel should budget is $100 + $400 = $<<100+400=500>>500.\\n#### 500<end_of_answer>\\n\\n### Response:\\n<begin_of_response>Let's break it down step by step!\\n\\nSara spent $50 on shoes and $200 on a dress, so she spent a total of:\\n\\n$50 + $200 = $250\\n\\nRachel wants to spend twice as much as Sara, so she should budget:\\n\\n$250 x 2 = $500\\n\\nTherefore, Rachel should budget $500.<end_of_response>\\n\\nNote: The response does not need to exactly match the interpretation in the standard answer, as long as it is mathematically accurate. After evaluating the question, standard answer, and response:\\n\\n1. Provide a brief justification for your score in no more than 100 words.\\n2. Conclude with the score using the format: **'Score of Response: <total points>'**.\"\n",
      "    }\n",
      "]\n"
     ]
    }
   ],
   "source": [
    "from IPython.display import display, Latex\n",
    "\n",
    "a =                                                                                      {\n",
    "            \"question\": \"Rachel and Sara want to attend a beauty and modeling contest. They both want to buy new pairs of shoes and dresses. Sara buys a pair of shoes which costs $50 and a dress which costs $200. How much should Rachel budget if she wants to spend twice as much as what Sara spent on the pair of shoes and dress?\",\n",
    "            \"answer\": \"The cost Rachel should budget for her pair of shoes is $50 * 2 = $<<50*2=100>>100.\\nThe cost Rachel should budget for her dress is $200 * 2 = $<<200*2=400>>400.\\nThe total Rachel should budget is $100 + $400 = $<<100+400=500>>500.\\n#### 500\",\n",
    "            \"input\": None,\n",
    "            \"y_before\": \"Let's break it down step by step!\\n\\nSara spent $50 on shoes and $200 on a dress, so she spent a total of:\\n\\n$50 + $200 = $250\\n\\nRachel wants to spend twice as much as Sara, so she should budget:\\n\\n$250 x 2 = $500\\n\\nTherefore, Rachel should budget $500.\",\n",
    "            \"y_before_score\": 0,\n",
    "            \"y_rectify\": \"Here is the revised response:\\n\\nLet's break it down step by step!\\n\\nSara spent $50 on shoes and $200 on a dress, so she spent a total of:\\n\\n$50 + $200 = $250\\n\\nRachel wants to spend twice as much as Sara, so she should budget:\\n\\n$50 * 2 = $100 for the shoes\\n$200 * 2 = $400 for the dress\\n\\nTherefore, Rachel should budget $100 + $400 = $500.\",\n",
    "            \"y_rectify_score\": 1,\n",
    "            \"error\": None\n",
    "        }\n",
    "\n",
    "message =  [{'role': 'user', 'content': judge_prompt.format_map(dict(instruction=a['question'], response=a['y_before'], answer=a['answer']))}]\n",
    "\n",
    "print('question:')\n",
    "display(Latex(a['question']))\n",
    "print('answer:')\n",
    "display(Latex(a['answer']))\n",
    "print('y_before:')\n",
    "display(Latex(a['y_before']))\n",
    "print('y_rectify:')\n",
    "display(Latex(a['y_rectify']))\n",
    "\n",
    "print('message:')\n",
    "print(json.dumps(message, indent=4))\n"
   ]
  }
 ],
 "metadata": {
  "kernelspec": {
   "display_name": "wizardlm",
   "language": "python",
   "name": "python3"
  },
  "language_info": {
   "codemirror_mode": {
    "name": "ipython",
    "version": 3
   },
   "file_extension": ".py",
   "mimetype": "text/x-python",
   "name": "python",
   "nbconvert_exporter": "python",
   "pygments_lexer": "ipython3",
   "version": "3.10.14"
  }
 },
 "nbformat": 4,
 "nbformat_minor": 2
}
